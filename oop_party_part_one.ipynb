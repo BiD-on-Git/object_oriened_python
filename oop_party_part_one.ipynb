{
 "cells": [
  {
   "cell_type": "markdown",
   "id": "376e7774",
   "metadata": {},
   "source": [
    "# Introduction to Object Oriented Programming (OOP)\n",
    "\n",
    "You might have heard the word 'Object Oriented Programming' or OOP before now and have wondered what it is. It is a beautiful programming paradigm that helps make your work as a developer smooth. Let's go on a ride through OOP-land but before then, let me tell you a story.\n",
    "\n",
    "Two of your friends, Tricia and Jim just visited your house to catch up because you haven't seen yourselves since you left college ten years ago. When they landed at your house, there was no meal at home because it was an impromptu visit. So you ask them what they would love to eat and they say, \"Basmati Rice\". You take the following procedures:\n",
    "\n",
    "1. Walk to the next grocery store to buy a pack of basmati rice.\n",
    "2. Walk to the farmers' market to buy some fresh vegetables and other ingredients.\n",
    "3. Return home, cut and prepare the ingredients.\n",
    "4. Cook the rice and add all the ingredients\n",
    "5. Serve your guests.\n",
    "\n",
    "Easy-peazy, right? Your food was so delicious and Tricia and Jim ate this food like their lives depended on it. It was so good that they asked if you would be willing to cook this same delicacy for the 1,000 guests at their upcoming wedding next month. Out of joy, you agree to cook at their wedding. But then, you notice something: though the end product of your 'wedding catering services' is still the delightfully-tasty Basmati rice, you cannot use the same process above to prepare it. First, you cannot just walk into a grocery store to buy basmati rice for 1,000 people. No grocery store in your area has such quantity on-hand. This implies that you have to get a procurement manager, whose role is to go round all the stores to buy basmati rice, till they get enough for the wedding. They will also be responsible for buying the vegetables and ensuring all are delivered to the kitchen. Also, because of the sheer size of the food you are preparing, you need extra hands: cooks who will help with the preparation and cutting of ingredients, mixing and other activities required. You act as the chief caterer/project manager supervising all activities aimed at delivering a tasty culinary experience at your friends' wedding.\n",
    "\n",
    "Did you notice something? The steps you took to cook the basmati rice when it was just Tricia and Jim were straightforward: a set of five procedures, beginning at procurement to serving the food (this is known in programming parlance as procedural programming). But the moment you had to scale and prepare food for 1,000 guests, you needed another paradigm. This is the whole gist about OOP. \n",
    "\n",
    "When you are building small stuff, procedural programming works. Procedural programming is a programming paradigm that builds stuff just using a set of procedures. But procedural programming never scales well. When it is time to scale and do the big catering, you see that you need a new paradigm. This paradigm demands that you get 'OBJECTS' (like the procurement manager, cooks, etc) to handle various parts of the project. With this, if you are informed that the guest list has been updated to 2,000 guests, all you need to do is to add maybe one more procurement manager, two more cooks and you'll be fine. It's not this easy if you were still doing everything yourself using procedural programming. At this juncture, I must inform you that OOP is applicable anytime you have a task to perform, whether it's cooking or a computing task like machine learning.\n",
    "\n",
    "I think we can call it a day at this point (Ok! Kidding!! I hear you asking, 'Where are all the Python codes??'). Before we delve into coding in Python, let's do some housekeeping so you can understand the possible scenarios that you'll encounter in Object Oriented Programming (OOP).\n",
    "\n",
    "Still using the catering example above, you have to take a series of steps to ensure your catering project is successful. First, you need to hire. From your earlier assessment, you have seen that you need three classes of individuals to work on this catering project:\n",
    "1. Procurement Manager\n",
    "2. Cook\n",
    "3. Supervisor (which is you!)\n",
    "\n",
    "This is exactly the first thing you do in OOP: you identify the classes (of helpers) you would need to execute the tasks in this project. In order to do this, you segregate the tasks into clusters and assign homogenous tasks to a particular class (more on this later!)\n",
    "\n",
    "Next, like every good human resource manager, you have to do two things: identify the FUNCTIONS these classes will perform and state the QUALITIES the classes need to have in order to perform their tasks perfectly. In OOP lingo, the FUNCTIONS are called METHODS and the QUALITIES are called PROPERTIES. It is important you do this before you begin to hire (in real life, this is called 'job description' and 'job specification'. Rings a bell, right?)\n",
    "\n",
    "Now that you have the job description and job specification ready, you need to put word out so that you can get candidates. And after a series of LinkedIn posts and ads, you hire Lenny as a first procurement manager. In OOP lingo, we say Lenny is an INSTANCE of the Procurement Manager class. If the guest list baloons, you might hire Jenny as another procurement manager. The class (Procurement Manager) has already determined what their tasks should look like and the qualities they should have. You have identified Aisha and Denise as instances for the Cook class, while you are the instance for the Supervisor class.\n",
    "\n",
    "At this point, I think I still hear you asking me, \"But where's the Python Code?\". Ok. We'll get to it soon. I promise\n",
    "\n",
    "I like to have a visual representation of my classes before I write the first line of code. This helps me conceptualize the code I'll need to write and be able to see the linkages before I proceed with coding. There are various ways to draw models of your classes and objects but I like the Universal Modelling Language (UML). You can find a good tutorial on UML Class Diagrams here (https://www.visual-paradigm.com/guide/uml-unified-modeling-language/uml-class-diagram-tutorial/). However, I will just stick to boxes and stick figures for this session (See class recording on https://www.blackindata.co.uk/python-party-2/ for stick figures)"
   ]
  },
  {
   "cell_type": "code",
   "execution_count": 1,
   "id": "b43cf7a1",
   "metadata": {},
   "outputs": [],
   "source": [
    "# To define a class in Python, we use the class keyword. The keyword 'pass' is used here because I do not want to put the details of the\n",
    "# implementation yet\n",
    "\n",
    "class ProcurementManager:\n",
    "    pass\n",
    "\n",
    "class Cook:\n",
    "    pass\n",
    "\n",
    "class Supervisor:\n",
    "    pass"
   ]
  },
  {
   "cell_type": "markdown",
   "id": "6bf57566",
   "metadata": {},
   "source": [
    "Now that we have determined our classes, the next thing we have to do is to determine the scope of the attributes and methods. Look at it this way: when you hire a new cook for this project, there are some things you give to the cook that are not shareable but pertain only to the cook. For instance, every cook should have their own unique staff identity/access card. However, every cook should NOT have their own unique kitchen. So while each cook's identity card is a unique attribute, the kitchen is a shared attribute that belongs to all Cooks. In OOP lingo, attributes that are unique to each cook are called instance attributes (or variables) because they vary from one instance of the class to another. Attributes that are shared by all members in the class are called Class Attributes (or variables). \n",
    "\n",
    "Just like we have class and instance attributes, we also have class and instance methods. This is how you declare attributes and methods in Python:"
   ]
  },
  {
   "cell_type": "code",
   "execution_count": 2,
   "id": "b04348d4",
   "metadata": {},
   "outputs": [],
   "source": [
    "class Cook:\n",
    "    \n",
    "    # Class attribute - always declared after the name of the class\n",
    "    kitchen = \"123 Macaulay Cresent\"  \n",
    "    \n",
    "    # This is where we declare the instance attributes\n",
    "    def __init__(self, name, staff_id):\n",
    "        self.name = name\n",
    "        self.staff_id = staff_id\n",
    "    \n",
    "    # This is where we declare the instance method\n",
    "    def prepare_ingredients(self):\n",
    "        pass"
   ]
  },
  {
   "cell_type": "markdown",
   "id": "8cb07646",
   "metadata": {},
   "source": [
    "Ok. I know you are eagle-eyed and have spotted that we only included three things in the class above:\n",
    "1. Class attributes\n",
    "2. Instance attributes\n",
    "3. Instance methods\n",
    "\n",
    "So where the heck is class method? Well, it's kind of tricky so I won't introduce it now but somewhere down the lane, we will meet Ms. Class Methods.\n",
    "\n",
    "Also, you would have also noticed that we keep referring to __*self*__ in each of the definitions. What exactly is __*self*__? It's just a positional parameter that makes Python insist that you cannot use a class unless you instantiate it i.e. you cannot have a Procurement Manager until you hire one."
   ]
  },
  {
   "cell_type": "markdown",
   "id": "ea0ef9f7",
   "metadata": {},
   "source": [
    "#### How to instantiate classes, call attributes and methods in Python\n",
    "\n",
    "In the earlier paragraphs, we see that Aisha has been hired as a cook for our project (i.e. Aisha is an instance of the cook class). Let's put this in Python code:"
   ]
  },
  {
   "cell_type": "code",
   "execution_count": 3,
   "id": "e70b6634",
   "metadata": {},
   "outputs": [],
   "source": [
    "aisha = Cook(name='Aisha Bello', staff_id='003')"
   ]
  },
  {
   "cell_type": "markdown",
   "id": "01f50f76",
   "metadata": {},
   "source": [
    "Now that aisha has been instantiated as an Object of the Cook class, aisha can inherit the shared class attributes and methods of the Cook class. Aisha also possesses the instance attributes and methods of the Cook class. To access any of the attributes or methods in the class, use the 'dot' notation i.e. object_name.property or object_name.method().\n",
    "\n",
    "Note: All methods, whether class methods or instance methods require the closing brackets () when being called."
   ]
  },
  {
   "cell_type": "code",
   "execution_count": 5,
   "id": "cb99c0ee",
   "metadata": {},
   "outputs": [
    {
     "name": "stdout",
     "output_type": "stream",
     "text": [
      "Aisha Bello\n",
      "123 Macaulay Cresent\n"
     ]
    }
   ],
   "source": [
    "print(aisha.name) # returns 'Aisha Bello'\n",
    "print(aisha.kitchen) # returns \"123 Macaulay Cresent\""
   ]
  },
  {
   "cell_type": "markdown",
   "id": "5a6bdb26",
   "metadata": {},
   "source": [
    "### Introducing 'def': The keyword that makes all the magic possible\n",
    "\n",
    "You must have observed that in the class definitions above, we used the keyword 'def'. So let's talk about the def keyword. Def is used whenever you have to define a property or a function/method in Python. Look carefully at the following lines of code:"
   ]
  },
  {
   "cell_type": "code",
   "execution_count": 4,
   "id": "821e5c7a",
   "metadata": {},
   "outputs": [],
   "source": [
    "# Code 01\n",
    "def manager(name):\n",
    "    name = \"James\"\n",
    "\n",
    "# Code 02\n",
    "def get_age(year_of_birth, this_year):\n",
    "    age = this_year - year_of_birth\n",
    "    return age"
   ]
  },
  {
   "cell_type": "markdown",
   "id": "c42d56b2",
   "metadata": {},
   "source": [
    "If you looked closely, you would notice that though the keyword 'def' is used in both Code 01 and Code 02, Code 02 demands an action to be performed i.e. return the age of a person when the __*get_age*__ function is called, while Code 01 just defines what the __*'name'*__ parameter should be. This is the primary difference between a function and a variable definition: a function requires a return value (normally using the keywords 'return', 'print', 'yield' etc to invoke a return value). A variable definition does not require a return value."
   ]
  },
  {
   "cell_type": "markdown",
   "id": "68b85687",
   "metadata": {},
   "source": [
    "Here, we first look at some quick facts to note about the def keyword, generally, and then we'll look at sme nuances of the def keyword when used in a ython class definition:\n",
    "\n",
    "##### 1. Whenever a variable or function definition is made using the def keyword, it should have parameters. Parameters (also called arguments) are information passed into a definition which supply the def's scope and return value (if any)"
   ]
  },
  {
   "cell_type": "code",
   "execution_count": null,
   "id": "964f5c21",
   "metadata": {},
   "outputs": [],
   "source": [
    "def get_age(year_of_birth, this_year):\n",
    "    age = this_year - year_of_birth\n",
    "    return age"
   ]
  },
  {
   "cell_type": "markdown",
   "id": "250cfe3f",
   "metadata": {},
   "source": [
    "There are some unique cases when a function does not need parameters. For instance, if you want to create a function that returns the current date and time, it could be written this way:"
   ]
  },
  {
   "cell_type": "code",
   "execution_count": 8,
   "id": "870df4ee",
   "metadata": {},
   "outputs": [],
   "source": [
    "from datetime import datetime\n",
    "\n",
    "def now():\n",
    "    return datetime.now()"
   ]
  },
  {
   "cell_type": "markdown",
   "id": "364456e2",
   "metadata": {},
   "source": [
    "##### 2. If your function has parameters, ensure that the parameters are captured in the calculation of the function's return value \n",
    "\n",
    "For instance:"
   ]
  },
  {
   "cell_type": "code",
   "execution_count": 10,
   "id": "b1d5f8d5",
   "metadata": {},
   "outputs": [],
   "source": [
    "def get_age(year_of_birth, this_year):\n",
    "    age = year_of_birth\n",
    "    return age\n",
    "\n",
    "# The parameter 'this_year' has been omitted in the computation of the return value. "
   ]
  },
  {
   "cell_type": "markdown",
   "id": "1398c538",
   "metadata": {},
   "source": [
    "##### 3. Parameters can be positional, non-positional, or keyword arguments\n",
    "\n",
    "By nature, parameters are positional or keyword arguments. Look at this function:"
   ]
  },
  {
   "cell_type": "code",
   "execution_count": 22,
   "id": "cafc3d6b",
   "metadata": {},
   "outputs": [],
   "source": [
    "def get_age(year_of_birth, this_year):\n",
    "    age = this_year - year_of_birth\n",
    "    return age"
   ]
  },
  {
   "cell_type": "markdown",
   "id": "ede65eb8",
   "metadata": {},
   "source": [
    "When making the function call, you can swap the order of the parameters and still get the same result if only you used the parameter names as a keyword"
   ]
  },
  {
   "cell_type": "code",
   "execution_count": null,
   "id": "4a99bb8a",
   "metadata": {},
   "outputs": [],
   "source": [
    "# Both functions below yield the same result because there is not position enforcement\n",
    "get_age(year_of_birth=1995,this_year=2023)"
   ]
  },
  {
   "cell_type": "code",
   "execution_count": null,
   "id": "37781906",
   "metadata": {},
   "outputs": [],
   "source": [
    "get_age(this_year=2023, year_of_birth=1995)"
   ]
  },
  {
   "cell_type": "markdown",
   "id": "5ba93bf7",
   "metadata": {},
   "source": [
    "There are ways you can enforce positional only or keyword only arguments. For this one, I'll refer you to Python's Documentation (https://docs.python.org/3/tutorial/controlflow.html#special-parameters)"
   ]
  },
  {
   "cell_type": "markdown",
   "id": "d77d7d93",
   "metadata": {},
   "source": [
    "##### 4. The parameters are local variables: they live in the namespace of the function i.e. you cannot call a parameter outside the function \n",
    "\n",
    "In the get_age function, you cannot call the __*year_of_birth*__ parameter outside of the function block"
   ]
  },
  {
   "cell_type": "code",
   "execution_count": null,
   "id": "4eeb018a",
   "metadata": {},
   "outputs": [],
   "source": [
    "print(year_of_birth)"
   ]
  },
  {
   "cell_type": "markdown",
   "id": "59c01860",
   "metadata": {},
   "source": [
    "##### 5. Functions can be defined with default parameters\n",
    "\n",
    "Let's look at our get_age function once more. With the way the parameters are, we can feed any values into the parameter named __*this_year*__. However, if you were informed that the purpose of this function is to serve only those born in 2023, you might have to supply 2023 as a default argument to the __*this_year*__ parameter."
   ]
  },
  {
   "cell_type": "code",
   "execution_count": 1,
   "id": "df7bf857",
   "metadata": {},
   "outputs": [],
   "source": [
    "def get_age(year_of_birth, this_year=2023):\n",
    "    age = this_year - year_of_birth\n",
    "    return age"
   ]
  },
  {
   "cell_type": "markdown",
   "id": "3a29db9e",
   "metadata": {},
   "source": [
    "When a parameter is created with default values, the parameter becomes optional because it already has a value that it assumes. So if the user does not supply a value for the parameter, it assumes its default values. This means that you can call the __*get_age*__ function without typing any values for the __*this_year*__ parameter and the function will work just fine. "
   ]
  },
  {
   "cell_type": "code",
   "execution_count": 2,
   "id": "475de20b",
   "metadata": {},
   "outputs": [
    {
     "data": {
      "text/plain": [
       "28"
      ]
     },
     "execution_count": 2,
     "metadata": {},
     "output_type": "execute_result"
    }
   ],
   "source": [
    "get_age(year_of_birth=1995)"
   ]
  },
  {
   "cell_type": "markdown",
   "id": "807fe63c",
   "metadata": {},
   "source": [
    "However, you can choose to supply a value other than the default value when calling the function and the function will work just fine."
   ]
  },
  {
   "cell_type": "code",
   "execution_count": 3,
   "id": "a505c363",
   "metadata": {},
   "outputs": [
    {
     "data": {
      "text/plain": [
       "27"
      ]
     },
     "execution_count": 3,
     "metadata": {},
     "output_type": "execute_result"
    }
   ],
   "source": [
    "get_age(year_of_birth=1995, this_year=2022)"
   ]
  }
 ],
 "metadata": {
  "kernelspec": {
   "display_name": "Python 3 (ipykernel)",
   "language": "python",
   "name": "python3"
  },
  "language_info": {
   "codemirror_mode": {
    "name": "ipython",
    "version": 3
   },
   "file_extension": ".py",
   "mimetype": "text/x-python",
   "name": "python",
   "nbconvert_exporter": "python",
   "pygments_lexer": "ipython3",
   "version": "3.9.13"
  }
 },
 "nbformat": 4,
 "nbformat_minor": 5
}
